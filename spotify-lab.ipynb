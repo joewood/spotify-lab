{
 "cells": [
  {
   "cell_type": "markdown",
   "metadata": {},
   "source": [
    "# Login and Initialize\n",
    "## Login Using Spotify\n",
    "After running this click Sign-In and login to Spotify. **Note** you cannot run the whole Notebook through. Run cell #1 first."
   ]
  },
  {
   "cell_type": "code",
   "execution_count": null,
   "metadata": {},
   "outputs": [],
   "source": [
    "%load_ext autoreload\n",
    "%autoreload 2\n",
    "from ipyauth import ParamsSpotify, Auth\n",
    "auth = Auth(ParamsSpotify(\n",
    "    redirect_uri='http://localhost:8888/callback', \n",
    "    client_id=\"9e4657eefbac41afa98c61f590d8fd51\"))\n",
    "auth"
   ]
  },
  {
   "cell_type": "markdown",
   "metadata": {},
   "source": [
    "## Fetch the Library\n",
    "Initialize the Spotify object with a `logger` and fetch the library DataFrame. Check it works by outputting the Profile image."
   ]
  },
  {
   "cell_type": "code",
   "execution_count": null,
   "metadata": {
    "scrolled": true
   },
   "outputs": [],
   "source": [
    "import requests\n",
    "from IPython.display import Image\n",
    "from spotify import Spotify\n",
    "from pandas import DataFrame as df\n",
    "from datetime import datetime,timedelta,date\n",
    "import json\n",
    "import logging\n",
    "\n",
    "logging.basicConfig()\n",
    "defaultLogger = logging.getLogger()\n",
    "defaultLogger.setLevel(logging.ERROR)\n",
    "logger = logging.getLogger('SpotifyLab')\n",
    "logger.setLevel(logging.DEBUG)\n",
    "\n",
    "spot = Spotify(auth, logger = logger)\n",
    "lib = spot.fetchLibraryDataFrame( )\n",
    "# Common Clauses\n",
    "released1Y = (lib.track_released>(datetime.now()-timedelta(days=365)))\n",
    "released4M = (lib.track_released>(datetime.now()-timedelta(days=120)))\n",
    "released3M = (lib.track_released>(datetime.now()-timedelta(days=90)))\n",
    "added2W = (lib.added_at>(datetime.now()-timedelta(days=14)).isoformat())\n",
    "added3M = (lib.added_at>(datetime.now()-timedelta(days=90)).isoformat())\n",
    "added4M = (lib.added_at>(datetime.now()-timedelta(days=120)).isoformat())\n",
    "\n",
    "# Debug playlists - used to exclude\n",
    "noise = spot.fetchPlaylistUris(\"Noise\")\n",
    "decSongs = spot.fetchPlaylistUris(\"December Songs\")\n",
    "holidaySongs = spot.fetchPlaylistUris(\"Holiday Songs\")\n",
    "\n",
    "#lib.columns.values\n",
    "Image(url=spot.imageUrl, width=50)"
   ]
  },
  {
   "cell_type": "markdown",
   "metadata": {},
   "source": [
    "## Holiday Playlists\n",
    "\n"
   ]
  },
  {
   "cell_type": "code",
   "execution_count": null,
   "metadata": {},
   "outputs": [],
   "source": [
    "\n",
    "allDecember = lib[(lib.original_uri.isin(decSongs)) | (lib.original_uri.isin(holidaySongs)) ]\n",
    "#lib.columns.values\n",
    "import pandas as pd\n",
    "\n",
    "#allDecember.head(1)\n",
    "lib[pd.isnull(lib.danceability)][[\"track_name\",\"artist\",\"original_uri\",\"name\",\"original_id\"]]\n",
    "\n",
    "spot.updatePlaylist(\"Auto December\",allDecember)\n",
    "spot.updatePlaylist(\"Auto Christmas Party\", allDecember[ (allDecember.energy>0.7) & (allDecember.acousticness<0.5) ])\n",
    "spot.updatePlaylist(\"Auto Holly Jolly\", allDecember[ (allDecember.energy>0.6) & (allDecember.instrumentalness<0.9) & (allDecember.acousticness<0.7) ])\n",
    "spot.updatePlaylist(\"Auto December Chill\", allDecember[ (allDecember.energy<0.701) & (allDecember.instrumentalness>0.2) ])\n",
    "spot.updatePlaylist(\"Auto Silent Night\", allDecember[ (allDecember.danceability<0.4) & (allDecember.energy<0.4) & (allDecember.instrumentalness>0.4) ])\n",
    "spot.updatePlaylist(\"Auto Work Christmas\", allDecember[ (allDecember.instrumentalness>0.2) & (allDecember.energy>0.2) ])\n",
    "spot.updatePlaylist(\"Auto Instrumental Christmas\", allDecember[ allDecember.instrumentalness>0.75 ])\n",
    "spot.updatePlaylist(\"Auto Added Christmas\",allDecember[ allDecember.added_at>(datetime.now()-timedelta(days=7)).isoformat()])\n",
    "spot.updatePlaylist(\"Auto Recent Christmas\",allDecember[ allDecember.track_released>(datetime.now()-timedelta(days=365))])\n",
    "spot.updatePlaylist(\"Auto Classic Christmas\",allDecember[ allDecember.track_released<(datetime(1991,1,1))])\n",
    "\n",
    "#lib.columns.values\n"
   ]
  },
  {
   "cell_type": "code",
   "execution_count": null,
   "metadata": {},
   "outputs": [],
   "source": [
    "from pandas import DataFrame, read_pickle, merge\n",
    "# tracks = read_pickle(\"mytracks.pkl\")\n",
    "#tracks[[\"track_id\",\"track_name\",\"track_artists\"]].iloc[0:5]\n",
    "#tracks[[\"track_id\"]].iloc[0:1,0].values.tolist()\n",
    "#[x for i,x in enumerate([True,False,True])]\n",
    "\n",
    "#lib.head()\n",
    "#ff = lib.drop(lib.index[x] for x in [0,1])\n",
    "#ff.head()\n",
    "\n",
    "\n",
    "#spot.checkDeletes( lib[[\"original_id\"]].iloc[:,0].values.tolist() )"
   ]
  },
  {
   "cell_type": "markdown",
   "metadata": {},
   "source": [
    "# Playlist Updates\n",
    "\n",
    "## A Running Playlist\n",
    "\n",
    "This playlist has high tempo and energy. The preference is for instrumentals with high danceability. Avoid long songs to keep the tracks changing."
   ]
  },
  {
   "cell_type": "code",
   "execution_count": null,
   "metadata": {},
   "outputs": [],
   "source": [
    "newPlaylist = lib[\n",
    "    (lib.tempo>130) & \n",
    "    (lib.instrumentalness>0.3) & \n",
    "    (lib.duration_ms<1000*60*60) & \n",
    "    (lib.danceability>0.7) &\n",
    "    (lib.track_released>datetime(1990,1,1))\n",
    "].sort_values([\"added_at\"])\n",
    "# Exclude some artists from this playlist\n",
    "newPlaylist = newPlaylist[~newPlaylist.artist.isin([\"Radiohead\",\"Rodrigo y Gabriela\",\"2CELLOS\",\"Faithless\",\"Doves\"])]\n",
    "spot.updatePlaylist(\"Auto Run Fast\",newPlaylist,excludingPlaylists=[holidaySongs])"
   ]
  },
  {
   "cell_type": "markdown",
   "metadata": {},
   "source": [
    "## Unpopular or Hispter?\n",
    "This playlists tracks tracks with low popularity. This is useful for checking if you added the most commonly played track (e.g. a version before it was remastered)."
   ]
  },
  {
   "cell_type": "code",
   "execution_count": null,
   "metadata": {},
   "outputs": [],
   "source": [
    "#lib[lib.track_album_album_type==\"compilation\"]\n",
    "spot.updatePlaylist(\"Are You Sure\",lib[(lib.track_popularity<2) & (lib.track_is_playable==True)],excludingPlaylists=[holidaySongs,noise,\"New Released\"])\n",
    "spot.updatePlaylist(\"Unplayable\",lib[(lib.track_is_playable==False)],excludingPlaylists=[])\n",
    "spot.updatePlaylist(\"Sinlges Compilations\",lib[(lib.track_album_album_type==\"compilation\")],excludingPlaylists=[])\n"
   ]
  },
  {
   "cell_type": "markdown",
   "metadata": {},
   "source": [
    "## Decades of Music\n",
    "These playlists bucket the music in your library into decades using the release date. "
   ]
  },
  {
   "cell_type": "code",
   "execution_count": null,
   "metadata": {},
   "outputs": [],
   "source": [
    "spot.updatePlaylist(\"Auto 1960s\",lib[lib.track_released<datetime(1970,1,1)],excludingPlaylists=[holidaySongs])\n",
    "spot.updatePlaylist(\"Auto 1970s\",lib[(lib.track_released>datetime(1970,1,1)) & (lib.track_released<datetime(1980,1,1))],excludingPlaylists=[holidaySongs])\n",
    "spot.updatePlaylist(\"Auto 1980s\",lib[(lib.track_released>datetime(1980,1,1)) & (lib.track_released<datetime(1990,1,1))],excludingPlaylists=[holidaySongs])\n",
    "spot.updatePlaylist(\"Auto 1990s\",lib[(lib.track_released>datetime(1990,1,1)) & (lib.track_released<datetime(2000,1,1))],excludingPlaylists=[holidaySongs])\n",
    "spot.updatePlaylist(\"Auto 2000s\",lib[(lib.track_released>datetime(2000,1,1)) & (lib.track_released<datetime(2010,1,1))],excludingPlaylists=[holidaySongs])\n",
    "spot.updatePlaylist(\"Auto 2010s\",lib[(lib.track_released>datetime(2010,1,1)) & (lib.track_released<datetime(2020,1,1))],excludingPlaylists=[holidaySongs])\n",
    "spot.updatePlaylist(\"Good Year\",lib[released1Y],excludingPlaylists=[holidaySongs])\n",
    "spot.updatePlaylist(\"Auto 2020\",lib[lib.track_released>=datetime(2020,1,1)],excludingPlaylists=[holidaySongs])\n"
   ]
  },
  {
   "cell_type": "markdown",
   "metadata": {},
   "source": [
    "## Recently Added\n",
    "The music you added in the last couple of months."
   ]
  },
  {
   "cell_type": "code",
   "execution_count": null,
   "metadata": {},
   "outputs": [],
   "source": [
    "spot.updatePlaylist(\"Auto 2W\",lib[added2W],excludingPlaylists=[holidaySongs,noise])\n",
    "spot.updatePlaylist(\"Auto 3M\",lib[added3M],excludingPlaylists=[holidaySongs,noise,\"Auto 2W\"])\n",
    "spot.updatePlaylist(\"New Released\",lib[released3M],excludingPlaylists=[holidaySongs,noise])\n",
    "spot.updatePlaylist(\"New Mix Takes\",lib[released3M & (lib.energy>0.3)],excludingPlaylists=[holidaySongs,\"Auto 2W\"])"
   ]
  },
  {
   "cell_type": "markdown",
   "metadata": {},
   "source": [
    "## Mood Music\n",
    "Music for every occasion. Low energy dinner parties, going to sleep or concentrating at work."
   ]
  },
  {
   "cell_type": "code",
   "execution_count": null,
   "metadata": {},
   "outputs": [],
   "source": [
    "spot.updatePlaylist(\"Dinner Party\",lib[(lib.acousticness>0.9) & (lib.energy<0.6)],excludingPlaylists=[holidaySongs])\n",
    "spot.updatePlaylist(\"Night Nights\",lib[(lib.acousticness>0.9) & (lib.loudness<-15) & (lib.speechiness<0.3) & (lib.energy<0.2) & (lib.danceability<0.3)],excludingPlaylists=[holidaySongs])\n",
    "\n",
    "workInstrumental = ((lib.speechiness<0.08) & (lib.instrumentalness>0.87)) & (lib.energy<0.8)\n",
    "workDance = (lib.danceability>0.3)\n",
    "quietInstrumental = workInstrumental & (lib.energy<0.3)\n",
    "quietDance = (lib.danceability<0.5)\n",
    "quietEnergy = (lib.loudness<-15)\n",
    "loudEnergy = (lib.loudness >= -15)\n",
    "workFast = (lib.danceability>0.7) & ((lib.speechiness<0.2) & (lib.instrumentalness>0.67)) & (lib.energy>0.5) \n",
    "\n",
    "spot.updatePlaylist(\"To Work To\",lib[workInstrumental & workDance ],excludingPlaylists=[holidaySongs])\n",
    "spot.updatePlaylist(\"To Work To 4M\",lib[workInstrumental & workDance & added4M],excludingPlaylists=[holidaySongs,noise])\n",
    "spot.updatePlaylist(\"New Released To Work To\",lib[workInstrumental & workDance & released1Y],excludingPlaylists=[holidaySongs])\n",
    "\n",
    "spot.updatePlaylist(\"Quiet Work\",lib[quietInstrumental & quietDance & quietEnergy ],excludingPlaylists=[holidaySongs])\n",
    "spot.updatePlaylist(\"Loud Work\",lib[workInstrumental & workDance & loudEnergy],excludingPlaylists=[holidaySongs])\n",
    "spot.updatePlaylist(\"Fast Work\",lib[workFast],excludingPlaylists=[holidaySongs])\n"
   ]
  },
  {
   "cell_type": "markdown",
   "metadata": {},
   "source": [
    "## More Analysis\n",
    "It's easy to add the same track twice, from different albums. This can cause duplicates in playlists. We can use Pandas `groupby` to scan for that"
   ]
  },
  {
   "cell_type": "code",
   "execution_count": null,
   "metadata": {},
   "outputs": [],
   "source": [
    "# Duplicates in the library\n",
    "ff = lib.groupby([\"track_name\",\"artist\",\"track_duration_ms\"]).filter(lambda x : len(x)>1)\n",
    "spot.updatePlaylist(\"Duplicates\",ff,excludingPlaylists=[holidaySongs])\n",
    "\n",
    "bestOf = lib[(lib.track_album_name.str.contains(\"Best Of\")) | (lib.track_album_name.str.contains(\"Greatest\")) | (lib.track_album_name.str.contains(\"The Essential\"))]\n",
    "spot.updatePlaylist(\"Suspect Best Of\",bestOf,excludingPlaylists=[holidaySongs])\n",
    "\n",
    "#lib[[lib.track_id.isin(ff[\"track_id\"].values)]]"
   ]
  },
  {
   "cell_type": "code",
   "execution_count": null,
   "metadata": {},
   "outputs": [],
   "source": [
    "lib.columns.values\n",
    "lib[lib.track_album_name.isin([\"The Essential Collection\",\"Memorial Beach\",\"25\"])][[\"artist\",\"track_name\",\"speechiness\",\"instrumentalness\",\"danceability\",\"energy\",\"original_id\"]]"
   ]
  },
  {
   "cell_type": "code",
   "execution_count": null,
   "metadata": {},
   "outputs": [],
   "source": []
  }
 ],
 "metadata": {
  "kernelspec": {
   "display_name": "Python 3",
   "language": "python",
   "name": "python3"
  },
  "language_info": {
   "codemirror_mode": {
    "name": "ipython",
    "version": 3
   },
   "file_extension": ".py",
   "mimetype": "text/x-python",
   "name": "python",
   "nbconvert_exporter": "python",
   "pygments_lexer": "ipython3",
   "version": "3.7.3"
  }
 },
 "nbformat": 4,
 "nbformat_minor": 2
}

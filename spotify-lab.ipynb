{
 "cells": [
  {
   "cell_type": "markdown",
   "metadata": {},
   "source": [
    "### Spotify Login\n",
    "After running this click Sign-In and login to Spotify. If the Time expires then the token should refresh using the popup. "
   ]
  },
  {
   "cell_type": "code",
   "execution_count": null,
   "metadata": {},
   "outputs": [],
   "source": [
    "from ipyauth import ParamsSpotify, Auth\n",
    "\n",
    "auth = Auth(ParamsSpotify(redirect_uri='http://localhost:8888/callback', client_id=\"9e4657eefbac41afa98c61f590d8fd51\"))\n",
    "auth"
   ]
  },
  {
   "cell_type": "markdown",
   "metadata": {},
   "source": [
    "### Common Stuff and Imports\n"
   ]
  },
  {
   "cell_type": "code",
   "execution_count": null,
   "metadata": {},
   "outputs": [],
   "source": [
    "import requests\n",
    "from IPython.display import Image\n",
    "from pandas.io.json import json_normalize\n",
    "from pandas import DataFrame,read_pickle,merge\n",
    "from pandas import DataFrame as df\n",
    "from datetime import datetime,timedelta\n",
    "import json\n",
    "from spotify import Spotify\n",
    "\n",
    "import logging\n",
    "import os\n",
    "\n",
    "#user = fetch(\"/v1/me\")\n",
    "#userId = user[\"id\"]\n",
    "spot = Spotify(auth)\n",
    "Image(url=spot.imageUrl, width=100)\n"
   ]
  },
  {
   "cell_type": "markdown",
   "metadata": {},
   "source": [
    "### Read The User Library\n",
    "This process may take a little while. The library tracks are cached locally, so this step can be skipped."
   ]
  },
  {
   "cell_type": "code",
   "execution_count": null,
   "metadata": {},
   "outputs": [],
   "source": [
    "data = spot.fetchAll(\"/v1/me/tracks\")\n",
    "tracksDf = json_normalize(data, sep=\"_\").set_index(\"track_uri\")\n",
    "tracksDf.to_pickle(\"mytracks.pkl\")\n",
    "tracksDf.head(2)"
   ]
  },
  {
   "cell_type": "markdown",
   "metadata": {},
   "source": [
    "### Verify the library cache exists"
   ]
  },
  {
   "cell_type": "code",
   "execution_count": null,
   "metadata": {
    "scrolled": true
   },
   "outputs": [],
   "source": [
    "tracksDf = read_pickle(\"mytracks.pkl\")\n",
    "tracksCache = tracksDf[[\"added_at\",\"track_name\",\"track_album_name\",\"track_album_id\"]]\n",
    "tracksCache.head(2)"
   ]
  },
  {
   "cell_type": "markdown",
   "metadata": {},
   "source": [
    "### Read the Artists\n",
    "Load the artists one by one. Use the Pickle File **artists.pkl** as a cache.\n",
    "* Create a DataFrame using the cache file if one exists (otherwise None)\n",
    "* Get the list of all unique artist_ids from the previous DF\n",
    "* Call `fetchAllIds` - using the artists path, the `artists` JSON field path and the cache DF\n",
    "* Recreate the new artistDf (Dict returned)\n",
    "* Save the file back to **artists.pkl**"
   ]
  },
  {
   "cell_type": "markdown",
   "metadata": {},
   "source": [
    "### Create a Track to Artist Table\n",
    "Pick out the track.artists array for each library track record. The meta (parent record) is the track.id. Use a prefix for both the meta and the record because they both use id.\n"
   ]
  },
  {
   "cell_type": "code",
   "execution_count": null,
   "metadata": {},
   "outputs": [],
   "source": [
    "artist_and_track = json_normalize( data=data, record_path=['track','artists'],  meta=[[\"track\",\"name\"],[\"track\",\"uri\"]],  record_prefix='artist_',   sep=\"_\" )\n",
    "artist_and_track = artist_and_track[['track_name','artist_id','artist_name', 'track_uri']]\n",
    "\n",
    "artistsPickle = read_pickle(\"artists.pkl\") if (os.path.isfile(\"artists.pkl\")) else None \n",
    "artistIds = list(set(artist_and_track[\"artist_id\"].values))\n",
    "artists = spot.fetchAllIds(\"/v1/artists\",\"artists\",artistIds,existingDf=artistsPickle)\n",
    "artistsDf = json_normalize(artists).set_index(\"id\")\n",
    "artistsDf.to_pickle(\"artists.pkl\")\n",
    "\n",
    "artistsDf[[\"name\",\"genres\"]].head(2)\n"
   ]
  },
  {
   "cell_type": "markdown",
   "metadata": {},
   "source": [
    "### Read the Albums"
   ]
  },
  {
   "cell_type": "code",
   "execution_count": null,
   "metadata": {},
   "outputs": [],
   "source": [
    "albumsPickle = read_pickle(\"albums.pkl\") if (os.path.isfile(\"albums.pkl\")) else None \n",
    "album_ids  = list(set(tracksDf[\"track_album_id\"].values))\n",
    "albums = spot.fetchAllIds(\"/v1/albums\",\"albums\",album_ids,pageSize=20,existingDf=albumsPickle)\n",
    "albumsDf = json_normalize(albums, sep=\"_\").set_index(\"id\")\n",
    "albumsDf.to_pickle(\"albums.pkl\")\n",
    "\n",
    "albumsDf[\"released\"] = albumsDf.apply(lambda al: datetime.strptime(al[\"release_date\"], \"%Y\" if (al.release_date_precision==\"year\") else \"%Y-%m\" if (al.release_date_precision==\"month\") else \"%Y-%m-%d\"), axis=1) \n",
    "\n",
    "libraryWithAlbums = merge(tracksDf,albumsDf, left_on=\"track_album_id\", right_index=True, suffixes=(\"_track\",\"_album\"))\n",
    "libraryWithAlbums[[\"name\",\"release_date\",\"tracks.total\",\"released\"]].head(2)\n"
   ]
  },
  {
   "cell_type": "markdown",
   "metadata": {},
   "source": [
    "### Track Features in Library"
   ]
  },
  {
   "cell_type": "code",
   "execution_count": null,
   "metadata": {},
   "outputs": [],
   "source": [
    "featuresPickle = read_pickle(\"features.pkl\").set_index(\"id\") if (os.path.isfile(\"features.pkl\")) else None \n",
    "features = spot.fetchAllIds(\"/v1/audio-features\",\"audio_features\",tracksDf[\"track_id\"].values,pageSize=50,existingDf=featuresPickle)\n",
    "featuresDf = json_normalize(features, sep=\"_\")\n",
    "featuresDf.to_pickle(\"features.pkl\")\n",
    "lib = merge(libraryWithAlbums,featuresDf.set_index(\"uri\"), left_index=True, right_index=True, how=\"outer\")\n",
    "lib[libraryWithFeatures.track_name==\"Spooky - Out of Order Mix\"][[\"track_name\",\"tempo\",\"danceability\",\"loudness\",\"energy\",\"released\",\"valence\"]].head(2)"
   ]
  },
  {
   "cell_type": "markdown",
   "metadata": {},
   "source": [
    "---------------------------------\n",
    "\n",
    "## All Read - let's create an auto playlist\n",
    "\n",
    "\n",
    "\n",
    "### Running Playlist \n",
    "* Tempo between 160 and 200 (for cadence)\n",
    "* Energy above 0.6\n",
    "* Danceability above 0.7"
   ]
  },
  {
   "cell_type": "code",
   "execution_count": null,
   "metadata": {},
   "outputs": [],
   "source": [
    "newPlaylist = lib[ \n",
    "#        (libraryWithFeatures.tempo>155) \n",
    "#                                  & (libraryWithFeatures.tempo<170) \n",
    "                                  (lib.released>(datetime.now()+timedelta(days=-36500))) \n",
    "                                  & (lib.energy>0.96 )]\n",
    "#                                 & (libraryWithFeatures.danceability>0.8 )]\n",
    "spot.updatePlaylist(\"Auto Run Fast\",\"Tempo>150 < 190 energy>50\",newPlaylist.index.values.tolist())\n",
    "newPlaylist[[\"track_name\",\"released\",\"tempo\",\"track_artists\",\"energy\",\"loudness\",\"tempo\",\"danceability\"]]\n"
   ]
  },
  {
   "cell_type": "code",
   "execution_count": null,
   "metadata": {},
   "outputs": [],
   "source": [
    "newPlaylist = lib[lib.released<datetime.strptime(\"1970\",\"%Y\")]\n",
    "spot.updatePlaylist(\"auto 1960s\",\"Sounds of the 60s\",newPlaylist.index.values.tolist())\n",
    "\n",
    "newPlaylist = lib[(lib.released>(datetime.strptime(\"1970\",\"%Y\")))\n",
    "                                  & (lib.released<(datetime.strptime(\"1980\",\"%Y\")))]\n",
    "spot.updatePlaylist(\"auto 1970s\",\"Sounds of the 70s\",newPlaylist.index.values.tolist())\n",
    "\n",
    "newPlaylist = lib[(lib.released>(datetime.strptime(\"1980\",\"%Y\")))\n",
    "                                  & (lib.released<(datetime.strptime(\"1990\",\"%Y\")))]\n",
    "spot.updatePlaylist(\"auto 1980s\",\"Sounds of the 80s\",newPlaylist.index.values.tolist())\n",
    "\n",
    "newPlaylist = lib[(lib.released>(datetime.strptime(\"1990\",\"%Y\")))\n",
    "                                  & (lib.released<(datetime.strptime(\"2000\",\"%Y\")))]\n",
    "spot.updatePlaylist(\"auto 1990s\",\"Sounds of the 90s\",newPlaylist.index.values.tolist())\n",
    "\n",
    "newPlaylist = lib[(lib.released>(datetime.strptime(\"2000\",\"%Y\")))\n",
    "                                  & (lib.released<(datetime.strptime(\"2010\",\"%Y\")))]\n",
    "spot.updatePlaylist(\"auto 2000s\",\"Sounds of the 2000s\",newPlaylist.index.values.tolist())\n",
    "\n",
    "newPlaylist = lib[(lib.released>(datetime.strptime(\"2010\",\"%Y\")))\n",
    "                                  & (lib.released<(datetime.strptime(\"2020\",\"%Y\")))]\n",
    "spot.updatePlaylist(\"auto 2010s\",\"Sounds of the 2010s\",newPlaylist.index.values.tolist())\n",
    "\n",
    "newPlaylist = lib[(lib.released>(datetime.strptime(\"2019\",\"%Y\")))               ]\n",
    "spot.updatePlaylist(\"2019 So Far\",\"Music from this year\",newPlaylist.index.values.tolist())\n",
    "\n",
    "newPlaylist[[\"track_name\",\"released\",\"tempo\",\"track_artists\",\"energy\",\"loudness\",\"tempo\",\"danceability\"]]\n"
   ]
  },
  {
   "cell_type": "code",
   "execution_count": null,
   "metadata": {},
   "outputs": [],
   "source": []
  }
 ],
 "metadata": {
  "kernelspec": {
   "display_name": "Python 3",
   "language": "python",
   "name": "python3"
  },
  "language_info": {
   "codemirror_mode": {
    "name": "ipython",
    "version": 3
   },
   "file_extension": ".py",
   "mimetype": "text/x-python",
   "name": "python",
   "nbconvert_exporter": "python",
   "pygments_lexer": "ipython3",
   "version": "3.7.5"
  }
 },
 "nbformat": 4,
 "nbformat_minor": 2
}

{
 "cells": [
  {
   "cell_type": "markdown",
   "metadata": {},
   "source": [
    "# Spotify Lab Example\n",
    "\n",
    "The library uses Pandas and a single DataFrame for your library. All your \"liked\" music."
   ]
  },
  {
   "cell_type": "code",
   "execution_count": null,
   "metadata": {},
   "outputs": [],
   "source": [
    "%load_ext autoreload\n",
    "%autoreload 2\n",
    "\n",
    "import requests\n",
    "from IPython.display import Image\n",
    "from spotify import Spotify\n",
    "from pandas import DataFrame as df\n",
    "import pandas as pd\n",
    "from datetime import datetime,timedelta,date\n",
    "import json\n",
    "import logging\n",
    "import os\n",
    "\n",
    "auth = os.environ.get(\"SPOTIFY_TOKEN\")\n",
    "\n",
    "logging.basicConfig()\n",
    "defaultLogger = logging.getLogger()\n",
    "defaultLogger.setLevel(logging.ERROR)\n",
    "logger = logging.getLogger('SpotifyLab')\n",
    "logger.setLevel(logging.DEBUG)\n",
    "\n",
    "# spot is our connection to Spotify API\n",
    "spot = Spotify(auth,  logger = logger)\n",
    "Image(url=spot.imageUrl, width=50)"
   ]
  },
  {
   "cell_type": "markdown",
   "metadata": {},
   "source": [
    "## Fetch the Library\n",
    "Initialize the Spotify object with a `logger` and fetch the library DataFrame. We're using three playlists for manual lists:\n",
    "\n",
    "* **Noise** - tracks to ignore when creating auto playlists based on how recently the track was added\n",
    "* **Holiday Songs** - Christmas (or other) holiday music that is only played at holiday time\n",
    "* **December Songs** - Other tracks to use with your holiday playlists but not exclusively holiday music"
   ]
  },
  {
   "cell_type": "code",
   "execution_count": null,
   "metadata": {
    "scrolled": true
   },
   "outputs": [],
   "source": [
    "# Read the library into a Data Frame\n",
    "lib = spot.fetchLibraryDataFrame( )\n",
    "# Common Clauses\n",
    "released1Y = (lib.track_released>(datetime.now()-timedelta(days=365)))\n",
    "released4M = (lib.track_released>(datetime.now()-timedelta(days=120)))\n",
    "released3M = (lib.track_released>(datetime.now()-timedelta(days=90)))\n",
    "added2W = (lib.added_at>(datetime.now()-timedelta(days=13)).isoformat())\n",
    "added3M = (lib.added_at>(datetime.now()-timedelta(days=90)).isoformat())\n",
    "added4M = (lib.added_at>(datetime.now()-timedelta(days=120)).isoformat())\n",
    "\n",
    "# Debug playlists - used to exclude\n",
    "noise = spot.fetchPlaylistUris(\"Noise\")\n",
    "decSongs = spot.fetchPlaylistUris(\"December Songs\")\n",
    "holidaySongs = spot.fetchPlaylistUris(\"Holiday Songs\")\n",
    "\n"
   ]
  },
  {
   "cell_type": "markdown",
   "metadata": {},
   "source": [
    "## Holiday Playlists\n",
    "Maintain special \"Holiday\" playlists. These are comprised of holiday music and music associated with the holidays.\n"
   ]
  },
  {
   "cell_type": "code",
   "execution_count": null,
   "metadata": {},
   "outputs": [],
   "source": [
    "\n",
    "allDecember = lib[(lib.original_uri.isin(decSongs)) | (lib.original_uri.isin(holidaySongs)) ]\n",
    "holiday = lib[lib.original_uri.isin(holidaySongs)]\n",
    "\n",
    "spot.updatePlaylist(\"December\",allDecember)\n",
    "spot.updatePlaylist(\"December Party\", allDecember[ (allDecember.energy>0.55)  ])\n",
    "spot.updatePlaylist(\"Holly Jolly\", allDecember[ (allDecember.energy>0.25)  ])\n",
    "spot.updatePlaylist(\"December Chill\", allDecember[ (allDecember.energy<=0.25)  ])\n",
    "spot.updatePlaylist(\"Silent Night\", allDecember[ (allDecember.danceability<0.4) & (allDecember.energy<0.4) & (allDecember.instrumentalness>0.15) ])\n",
    "spot.updatePlaylist(\"December Work\", allDecember[ (allDecember.instrumentalness>0.15) & (allDecember.energy>0.2) ])\n",
    "spot.updatePlaylist(\"December Instrumental\", allDecember[ allDecember.instrumentalness>0.15 ])\n",
    "spot.updatePlaylist(\"December Nonstrumental\", allDecember[ allDecember.instrumentalness<=0.15 ])\n",
    "spot.updatePlaylist(\"December 3M\",holiday[ holiday.added_at>(datetime.now()-timedelta(days=90)).isoformat()],excludingPlaylists=[noise])\n",
    "spot.updatePlaylist(\"December This Year\",holiday[ holiday.track_released>(datetime.now()-timedelta(days=335))])\n",
    "spot.updatePlaylist(\"December New\",holiday[ holiday.track_released>(datetime.now()-timedelta(days=3.5*365))])\n",
    "spot.updatePlaylist(\"December Classics\",allDecember[ allDecember.track_released<(datetime(1991,1,1))])"
   ]
  },
  {
   "cell_type": "code",
   "execution_count": null,
   "metadata": {},
   "outputs": [],
   "source": [
    "newPlaylist = lib[\n",
    "    (lib.duration_ms<1000*60*7) & \n",
    "    (lib.energy>0.935) &\n",
    "    (lib.track_released>datetime(1990,1,1))\n",
    "].sort_values([\"added_at\"])\n",
    "# Exclude some artists from this playlist\n",
    "newPlaylist = newPlaylist[~newPlaylist.artist.isin([\"Radiohead\",\"Rodrigo y Gabriela\",\"2CELLOS\",\"Faithless\",\"Doves\"])]\n",
    "spot.updatePlaylist(\"Auto Run Fast\",newPlaylist,excludingPlaylists=[holidaySongs])\n",
    "newRunFast = lib[\n",
    "    released1Y &\n",
    "     (lib.energy>0.80) \n",
    "    \n",
    "].sort_values([\"added_at\"])\n",
    "spot.updatePlaylist(\"New Run Fast\",newRunFast,excludingPlaylists=[holidaySongs]).head(10)\n",
    "lib[lib.artist.isin([\"The Chemical Brothers\"])][[\"track_album_name\",\"track_released\",\"track_name\"]]"
   ]
  },
  {
   "cell_type": "markdown",
   "metadata": {},
   "source": [
    "## Unpopular or Hispter?\n",
    "This playlists tracks tracks with low popularity. This is useful for checking if you added the most commonly played track (e.g. a version before it was remastered)."
   ]
  },
  {
   "cell_type": "code",
   "execution_count": null,
   "metadata": {},
   "outputs": [],
   "source": [
    "spot.updatePlaylist(\"Are You Sure\",lib[(lib.track_popularity<2) & (lib.track_is_playable==True)],excludingPlaylists=[holidaySongs,noise,\"New Released\"])\n",
    "spot.updatePlaylist(\"Unplayable\",lib[(lib.track_is_playable==False)],excludingPlaylists=[])\n",
    "comp = lib[~lib.track_album_name.isin([\"Love\",\"Ricochet (Live)\"])]\n",
    "spot.updatePlaylist(\"Compilations\",comp[(comp.track_album_album_type==\"compilation\")],excludingPlaylists=[holidaySongs])\n"
   ]
  },
  {
   "cell_type": "markdown",
   "metadata": {},
   "source": [
    "## Decades of Music\n",
    "These playlists bucket the music in your library into decades using the release date. "
   ]
  },
  {
   "cell_type": "code",
   "execution_count": null,
   "metadata": {},
   "outputs": [],
   "source": [
    "spot.updatePlaylist(\"Auto 1960s\",lib[lib.track_released<datetime(1970,1,1)],excludingPlaylists=[holidaySongs])\n",
    "spot.updatePlaylist(\"Auto 1970s\",lib[(lib.track_released>datetime(1970,1,1)) & (lib.track_released<datetime(1980,1,1))],excludingPlaylists=[holidaySongs])\n",
    "spot.updatePlaylist(\"Auto 1980s\",lib[(lib.track_released>datetime(1980,1,1)) & (lib.track_released<datetime(1990,1,1))],excludingPlaylists=[holidaySongs])\n",
    "spot.updatePlaylist(\"Auto 1990s\",lib[(lib.track_released>datetime(1990,1,1)) & (lib.track_released<datetime(2000,1,1))],excludingPlaylists=[holidaySongs])\n",
    "spot.updatePlaylist(\"Auto 2000s\",lib[(lib.track_released>datetime(2000,1,1)) & (lib.track_released<datetime(2010,1,1))],excludingPlaylists=[holidaySongs])\n",
    "spot.updatePlaylist(\"Auto 2010s\",lib[(lib.track_released>datetime(2010,1,1)) & (lib.track_released<datetime(2020,1,1))],excludingPlaylists=[holidaySongs])\n",
    "spot.updatePlaylist(\"Auto 2020\",lib[lib.track_released>=datetime(2020,1,1)],excludingPlaylists=[holidaySongs])\n"
   ]
  },
  {
   "cell_type": "markdown",
   "metadata": {},
   "source": [
    "## Recently Added\n",
    "The music you added in the last couple of months."
   ]
  },
  {
   "cell_type": "code",
   "execution_count": null,
   "metadata": {},
   "outputs": [],
   "source": [
    "spot.updatePlaylist(\"Good Year\",lib[released1Y],excludingPlaylists=[holidaySongs])\n",
    "spot.updatePlaylist(\"Auto 2W\",lib[added2W],excludingPlaylists=[holidaySongs,noise])\n",
    "spot.updatePlaylist(\"Auto 3M\",lib[added3M],excludingPlaylists=[holidaySongs,noise,\"Auto 2W\"])\n",
    "spot.updatePlaylist(\"New Released\",lib[released3M],excludingPlaylists=[holidaySongs,noise])\n",
    "spot.updatePlaylist(\"New Mix Takes\",lib[released1Y & (lib.energy>0.5)],excludingPlaylists=[holidaySongs])"
   ]
  },
  {
   "cell_type": "markdown",
   "metadata": {},
   "source": [
    "## Mood Music\n",
    "Music for every occasion. Low energy dinner parties, going to sleep or concentrating at work."
   ]
  },
  {
   "cell_type": "code",
   "execution_count": null,
   "metadata": {},
   "outputs": [],
   "source": [
    "spot.updatePlaylist(\"Dinner Party\",lib[(lib.acousticness>0.9) & (lib.energy<0.6)],excludingPlaylists=[holidaySongs])\n",
    "spot.updatePlaylist(\"Night Nights\",lib[(lib.acousticness>0.9) & (lib.loudness<-15) & (lib.speechiness<0.3) & (lib.energy<0.2) & (lib.danceability<0.3)],excludingPlaylists=[holidaySongs])\n",
    "\n",
    "spot.updatePlaylist(\"Danceability\",lib[ lib.danceability>0.90 ],excludingPlaylists=[holidaySongs])\n",
    "spot.updatePlaylist(\"Energy\",lib[ lib.energy>0.96 ],excludingPlaylists=[holidaySongs])\n",
    "spot.updatePlaylist(\"Instrumentalness\",lib[ lib.instrumentalness>0.96 ],excludingPlaylists=[holidaySongs])\n",
    "spot.updatePlaylist(\"Low-Speechiness\",lib[ lib.speechiness<0.025 ],excludingPlaylists=[holidaySongs])\n",
    "\n",
    "\n",
    "workInstrumental = (lib.instrumentalness>0.65)\n",
    "\n",
    "workDance = (lib.energy>0.7)\n",
    "quietInstrumental = workInstrumental & (lib.energy<0.3)\n",
    "quietDance = (lib.danceability<0.5)\n",
    "quietEnergy = (lib.loudness<-15)\n",
    "loudEnergy = (lib.loudness >= -15)\n",
    "workFast = (lib.energy>0.8) & workInstrumental \n",
    "\n",
    "spot.updatePlaylist(\"To Work To\",lib[workInstrumental & workDance ],excludingPlaylists=[holidaySongs])\n",
    "spot.updatePlaylist(\"To Work To 4M\",lib[workInstrumental  & added4M],excludingPlaylists=[holidaySongs,noise])\n",
    "spot.updatePlaylist(\"New Released To Work To\",lib[workInstrumental & workDance & released1Y],excludingPlaylists=[holidaySongs,noise])\n",
    "\n",
    "spot.updatePlaylist(\"Quiet Work\",lib[quietInstrumental & quietDance & quietEnergy ],excludingPlaylists=[holidaySongs])\n",
    "spot.updatePlaylist(\"Loud Work\",lib[workInstrumental & workDance & loudEnergy],excludingPlaylists=[holidaySongs])\n",
    "spot.updatePlaylist(\"Fast Work\",lib[workFast],excludingPlaylists=[holidaySongs])\n"
   ]
  },
  {
   "cell_type": "markdown",
   "metadata": {},
   "source": [
    "## More Analysis\n",
    "It's easy to add the same track twice, from different albums. This can cause duplicates in playlists. We can use Pandas `groupby` to scan for that"
   ]
  },
  {
   "cell_type": "code",
   "execution_count": null,
   "metadata": {},
   "outputs": [],
   "source": [
    "# Duplicates in the library\n",
    "spot.updatePlaylist(\"Tangerine Dream\",lib[ lib.artist.isin([\"Tangerine Dream\"])],excludingPlaylists=[holidaySongs])\n",
    "spot.updatePlaylist(\"Duran Duran\",lib[ lib.artist.isin([\"Duran Duran\",\"Arcadia\"])],excludingPlaylists=[holidaySongs])\n",
    "spot.updatePlaylist(\"Radiohead Plus\",lib[ lib.artist.isin([\"Radiohead\",\"Thom Yorke\",\"Jonny Greenwood\",\"Modeselektor\"]) | lib.track_album_name.str.contains(\"Radiohead\") | lib.track_name.isin(['Faust Arp','Fake Plastic Trees','Idioteque','Exit Music','Everything in Its Right Place','True Love Waits','Exit Music (For A Film)','Weird Fishes']) ],excludingPlaylists=[holidaySongs])\n",
    "spot.updatePlaylist(\"Beatles Plus\",lib[ lib.artist.isin([\"The Beatles\",\"Paul McCartney\",\"John Lennon\",\"Ringo Starr\",\"George Harrison\",\"Wings\",\"George Martin\"]) | lib.track_album_name.str.contains(\"Across The Universe\") | lib.track_album_name.str.contains(\"Instant Karma\") | lib.track_album_name.str.contains(\"Abbey Road\") | lib.track_album_name.str.contains(\"Beatles\") | lib.track_name.isin(['Hard Day','Got to Get You Into My Life','Dear Prudence','Strawberry Fields',\"Maybe I'm Amazed\",\"Golden Slumbers\",\"Here Comes the Sun\",\"A Day in the Life\"]) ],excludingPlaylists=[holidaySongs])\n",
    "spot.updatePlaylist(\"Movies\",lib[ lib.artist.isin([\"Hans Zimmer\",\"Trent Reznor\",\"Trent Reznor and Atticus Ross\",\"John Williams\",\"Howard Shore\",\"Ennio Morricone\",\"James Horner\",\"Steven Price\",\"Carter Burwell\",\"John Barry\",\"Vangelis\",\"Thomas Newman\",\"Philip Glass\",\"Craig Armstrong\",\"Jóhann Jóhannsson\",\"Michael Giacchino\"]) ],excludingPlaylists=[holidaySongs])\n",
    "\n",
    "sm = lib[[\"track_name\",\"artist\",\"track_duration_ms\",\"track_id\",\"original_id\",\"track_uri\",\"original_uri\",\"track_album_name\",\"track_album_album_type\"]]\n",
    "ff = sm.groupby([\"track_name\",\"artist\",\"track_duration_ms\"])[\"track_id\"]"
   ]
  },
  {
   "cell_type": "code",
   "execution_count": null,
   "metadata": {},
   "outputs": [],
   "source": [
    "lib.columns.values\n",
    "#lib[[\"artistGenres\"]].head(200)\n",
    "\n",
    "# lib[lib.track_album_name.isin([\"Circles\"])][[\"artist\",\"track_name\",\"speechiness\",\"instrumentalness\",\"danceability\",\"energy\",\"track_uri\",\"track_id\",\"original_id\"]]"
   ]
  }
 ],
 "metadata": {
  "kernelspec": {
   "name": "python385jvsc74a57bd0082e9a3bcad0a290d0001e938aa60b99250c6c2ef33a923c00b70f9826caf4b7",
   "display_name": "Python 3.8.5 64-bit ('3.8')"
  },
  "language_info": {
   "codemirror_mode": {
    "name": "ipython",
    "version": 3
   },
   "file_extension": ".py",
   "mimetype": "text/x-python",
   "name": "python",
   "nbconvert_exporter": "python",
   "pygments_lexer": "ipython3",
   "version": "3.8.5"
  },
  "metadata": {
   "interpreter": {
    "hash": "082e9a3bcad0a290d0001e938aa60b99250c6c2ef33a923c00b70f9826caf4b7"
   }
  }
 },
 "nbformat": 4,
 "nbformat_minor": 2
}
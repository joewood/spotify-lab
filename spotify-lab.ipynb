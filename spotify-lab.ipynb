{
 "cells": [
  {
   "cell_type": "markdown",
   "metadata": {},
   "source": [
    "# Login and Initialize\n",
    "## Login Using Spotify\n",
    "After running this click Sign-In and login to Spotify. **Note** you cannot run the whole Notebook through. Run cell #1 first."
   ]
  },
  {
   "cell_type": "code",
   "execution_count": null,
   "metadata": {},
   "outputs": [],
   "source": [
    "%load_ext autoreload\n",
    "%autoreload 2\n",
    "from ipyauth import ParamsSpotify, Auth\n",
    "auth = Auth(ParamsSpotify(\n",
    "    redirect_uri='http://localhost:8888/callback', \n",
    "    client_id=\"9e4657eefbac41afa98c61f590d8fd51\"))\n",
    "auth"
   ]
  },
  {
   "cell_type": "markdown",
   "metadata": {},
   "source": [
    "## Fetch the Library\n",
    "Initialize the Spotify object with a `logger` and fetch the library DataFrame. Check it works by outputting the Profile image."
   ]
  },
  {
   "cell_type": "code",
   "execution_count": null,
   "metadata": {
    "scrolled": true
   },
   "outputs": [],
   "source": [
    "import requests\n",
    "from IPython.display import Image\n",
    "from spotify import Spotify\n",
    "from pandas import DataFrame as df\n",
    "from datetime import datetime,timedelta,date\n",
    "import json\n",
    "import logging\n",
    "\n",
    "logging.basicConfig()\n",
    "defaultLogger = logging.getLogger()\n",
    "defaultLogger.setLevel(logging.ERROR)\n",
    "logger = logging.getLogger('SpotifyLab')\n",
    "logger.setLevel(logging.DEBUG)\n",
    "\n",
    "spot = Spotify(auth, logger = logger)\n",
    "lib = spot.fetchLibraryDataFrame( cache=False)\n",
    "#lib.columns.values\n",
    "Image(url=spot.imageUrl, width=50)"
   ]
  },
  {
   "cell_type": "code",
   "execution_count": null,
   "metadata": {},
   "outputs": [],
   "source": [
    "#lib.columns.values\n",
    "#import pandas as pd\n",
    "decSongs = spot.fetchPlaylistUris(\"December Songs\")\n",
    "holidaySongs = spot.fetchPlaylistUris(\"Holiday Songs\")\n",
    "allDecember = lib[(lib.track_uri.isin(decSongs)) | (lib.track_uri.isin(holidaySongs)) ]\n",
    "spot.updatePlaylist(\"Auto December\",allDecember)\n",
    "spot.updatePlaylist(\"Auto Holly Jolly\", allDecember[ allDecember.energy>0.7 ])\n",
    "spot.updatePlaylist(\"Auto December Chill\", allDecember[ allDecember.energy<0.701 ])\n",
    "spot.updatePlaylist(\"Auto Silent Night\", allDecember[ allDecember.energy<0.3 ])\n",
    "spot.updatePlaylist(\"Auto Instrumental Christmas\", allDecember[ allDecember.instrumentalness>0.75 ])\n",
    "#spot.fetchPlaylistUris(\"December Songs\")\n",
    "\n",
    "#lib[lib.track_name==\"I Want A Dog\"][[\"track_name\",\"artist\",\"genres\",\"track_released\",\"release_date\",\"name\",\"track_album_name\",\"track_album_id\",\"track_album_release_date\",\"track_album_release_date_precision\"]]"
   ]
  },
  {
   "cell_type": "markdown",
   "metadata": {},
   "source": [
    "# Playlist Updates\n",
    "\n",
    "## A Running Playlist\n",
    "\n",
    "This playlist has high tempo and energy. The preference is for instrumentals with high danceability. Avoid long songs to keep the tracks changing."
   ]
  },
  {
   "cell_type": "code",
   "execution_count": null,
   "metadata": {},
   "outputs": [],
   "source": [
    "newPlaylist = lib[\n",
    "    (lib.tempo>130) & \n",
    "    (lib.instrumentalness>0.3) & \n",
    "    (lib.duration_ms<1000*60*6) & \n",
    "    (lib.danceability>0.7) &\n",
    "    (lib.track_released>datetime(1990,1,1))\n",
    "].sort_values([\"added_at\"])\n",
    "# Exclude some artists from this playlist\n",
    "newPlaylist = newPlaylist[~newPlaylist.artist.isin([\"Radiohead\",\"Rodrigo y Gabriela\",\"2CELLOS\",\"Faithless\",\"Doves\"])]\n",
    "spot.updatePlaylist(\"Auto Run Fast\",newPlaylist,excludingPlaylists=[\"Holiday Songs\"])"
   ]
  },
  {
   "cell_type": "markdown",
   "metadata": {},
   "source": [
    "## Unpopular or Hispter?\n",
    "This playlists tracks tracks with low popularity. This is useful for checking if you added the most commonly played track (e.g. a version before it was remastered)."
   ]
  },
  {
   "cell_type": "code",
   "execution_count": null,
   "metadata": {},
   "outputs": [],
   "source": [
    "spot.updatePlaylist(\"Are You Sure\",lib[lib.track_popularity<2],excludingPlaylists=[\"Holiday Songs\"])"
   ]
  },
  {
   "cell_type": "markdown",
   "metadata": {},
   "source": [
    "## Decades of Music\n",
    "These playlists bucket the music in your library into decades using the release date. "
   ]
  },
  {
   "cell_type": "code",
   "execution_count": null,
   "metadata": {},
   "outputs": [],
   "source": [
    "spot.updatePlaylist(\"auto 1960s\",lib[lib.track_released<datetime(1970,1,1)],excludingPlaylists=[\"Holiday Songs\"])\n",
    "spot.updatePlaylist(\"auto 1970s\",lib[(lib.track_released>datetime(1970,1,1)) & (lib.track_released<datetime(1980,1,1))],excludingPlaylists=[\"Holiday Songs\"])\n",
    "spot.updatePlaylist(\"auto 1980s\",lib[(lib.track_released>datetime(1980,1,1)) & (lib.track_released<datetime(1990,1,1))],excludingPlaylists=[\"Holiday Songs\"])\n",
    "spot.updatePlaylist(\"auto 1990s\",lib[(lib.track_released>datetime(1990,1,1)) & (lib.track_released<datetime(2000,1,1))],excludingPlaylists=[\"Holiday Songs\"])\n",
    "spot.updatePlaylist(\"auto 2000s\",lib[(lib.track_released>datetime(2000,1,1)) & (lib.track_released<datetime(2010,1,1))],excludingPlaylists=[\"Holiday Songs\"])\n",
    "spot.updatePlaylist(\"auto 2010s\",lib[(lib.track_released>datetime(2010,1,1)) & (lib.track_released<datetime(2020,1,1))],excludingPlaylists=[\"Holiday Songs\"])\n",
    "spot.updatePlaylist(\"2019 So Far\",lib[lib.track_released>datetime(2019,1,1)],excludingPlaylists=[\"Holiday Songs\"])\n"
   ]
  },
  {
   "cell_type": "markdown",
   "metadata": {},
   "source": [
    "## Recently Added\n",
    "The music you added in the last couple of months."
   ]
  },
  {
   "cell_type": "code",
   "execution_count": null,
   "metadata": {},
   "outputs": [],
   "source": [
    "spot.updatePlaylist(\"Auto Two Weeks\",lib[lib.added_at>(datetime.now()-timedelta(days=14)).isoformat()],excludingPlaylists=[\"Holiday Songs\"])\n",
    "spot.updatePlaylist(\"Auto Recent Added\",lib[lib.added_at>(datetime.now()-timedelta(days=60)).isoformat()],excludingPlaylists=[\"Holiday Songs\"])\n",
    "spot.updatePlaylist(\"Auto Recent\",lib[(lib.track_released>(datetime.now()-timedelta(days=90)))],excludingPlaylists=[\"Holiday Songs\"])\n",
    "spot.updatePlaylist(\"New Mix Takes\",lib[(lib.track_released>(datetime.now()-timedelta(days=90)))\n",
    "                                        & (lib.energy>0.3)],excludingPlaylists=[\"Holiday Songs\"])"
   ]
  },
  {
   "cell_type": "markdown",
   "metadata": {},
   "source": [
    "## Mood Music\n",
    "Music for every occasion. Low energy dinner parties, going to sleep or concentrating at work."
   ]
  },
  {
   "cell_type": "code",
   "execution_count": null,
   "metadata": {},
   "outputs": [],
   "source": [
    "spot.updatePlaylist(\"Dinner Party\",lib[(lib.acousticness>0.9) & (lib.energy<0.6)],excludingPlaylists=[\"Holiday Songs\"])\n",
    "spot.updatePlaylist(\"Night Nights\",lib[(lib.acousticness>0.9) & (lib.energy<0.3) & (lib.danceability<0.3)],excludingPlaylists=[\"Holiday Songs\"])\n",
    "spot.updatePlaylist(\"To Work To\",lib[(lib.instrumentalness>0.9) & (lib.energy>0.6) ],excludingPlaylists=[\"Holiday Songs\"])\n",
    "spot.updatePlaylist(\"Quiet Work\",lib[(lib.instrumentalness>0.9) & (lib.danceability<0.6) & (lib.energy>0.3) ],excludingPlaylists=[\"Holiday Songs\"])\n",
    "# With new Music Only\n",
    "spot.updatePlaylist(\"Recent Work Music\",lib[\n",
    "    (lib.instrumentalness>0.9) & \n",
    "    (lib.energy>0.6) & \n",
    "    (lib.added_at>(datetime.now()-timedelta(days=90)).isoformat() )],excludingPlaylists=[\"Holiday Songs\"])\n",
    "spot.updatePlaylist(\"Recent Quiet Work\",lib[\n",
    "    (lib.instrumentalness>0.9) & \n",
    "    (lib.danceability<0.6) & \n",
    "    (lib.energy>0.3) &\n",
    "    (lib.added_at>(datetime.now()-timedelta(days=90)).isoformat()) ],excludingPlaylists=[\"Holiday Songs\"])"
   ]
  },
  {
   "cell_type": "markdown",
   "metadata": {},
   "source": [
    "## More Analysis\n",
    "It's easy to add the same track twice, from different albums. This can cause duplicates in playlists. We can use Pandas `groupby` to scan for that"
   ]
  },
  {
   "cell_type": "code",
   "execution_count": null,
   "metadata": {},
   "outputs": [],
   "source": [
    "# Duplicates in the library\n",
    "ff = lib.groupby([\"track_name\",\"artist\"]).count()\n",
    "(ff[ff.track_uri>1]).index.values"
   ]
  },
  {
   "cell_type": "code",
   "execution_count": null,
   "metadata": {},
   "outputs": [],
   "source": []
  }
 ],
 "metadata": {
  "kernelspec": {
   "display_name": "Python 3",
   "language": "python",
   "name": "python3"
  },
  "language_info": {
   "codemirror_mode": {
    "name": "ipython",
    "version": 3
   },
   "file_extension": ".py",
   "mimetype": "text/x-python",
   "name": "python",
   "nbconvert_exporter": "python",
   "pygments_lexer": "ipython3",
   "version": "3.7.3"
  }
 },
 "nbformat": 4,
 "nbformat_minor": 2
}

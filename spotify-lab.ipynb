{
 "cells": [
  {
   "cell_type": "markdown",
   "metadata": {},
   "source": [
    "### Spotify Login\n",
    "After running this click Sign-In and login to Spotify. If the Time expires then the token should refresh using the popup. "
   ]
  },
  {
   "cell_type": "code",
   "execution_count": null,
   "metadata": {},
   "outputs": [],
   "source": [
    "%load_ext autoreload\n",
    "%autoreload 2\n",
    "from ipyauth import ParamsSpotify, Auth\n",
    "from spotify import Spotify\n",
    "\n",
    "auth = Auth(ParamsSpotify(redirect_uri='http://localhost:8888/callback', client_id=\"9e4657eefbac41afa98c61f590d8fd51\"))\n",
    "auth"
   ]
  },
  {
   "cell_type": "markdown",
   "metadata": {},
   "source": [
    "### Common Stuff and Imports\n"
   ]
  },
  {
   "cell_type": "code",
   "execution_count": null,
   "metadata": {},
   "outputs": [],
   "source": [
    "import requests\n",
    "from IPython.display import Image\n",
    "\n",
    "from pandas import DataFrame,read_pickle,merge\n",
    "from pandas import DataFrame as df\n",
    "from datetime import datetime,timedelta,date\n",
    "import json\n",
    "\n",
    "import logging\n",
    "import os\n",
    "\n",
    "\n",
    "logging.basicConfig()\n",
    "defaultLogger = logging.getLogger()\n",
    "defaultLogger.setLevel(logging.ERROR)\n",
    "logger = logging.getLogger('SpotifyLab')\n",
    "logger.setLevel(logging.DEBUG)\n",
    "\n",
    "spot = Spotify(auth, logger = logger)\n",
    "\n",
    "Image(url=spot.imageUrl, width=100)\n"
   ]
  },
  {
   "cell_type": "markdown",
   "metadata": {},
   "source": [
    "### Read The User Library\n",
    "This process may take a little while. The library tracks are cached locally, so this step can be skipped."
   ]
  },
  {
   "cell_type": "code",
   "execution_count": null,
   "metadata": {},
   "outputs": [],
   "source": [
    "from pandas.io.json import json_normalize\n",
    "\n",
    "data = spot.fetchLibrary()\n",
    "tracksDf = json_normalize(data, sep=\"_\").set_index(\"track_uri\")\n",
    "tracksDf.to_pickle(\"mytracks.pkl\")\n",
    "tracksDf.head(2)"
   ]
  },
  {
   "cell_type": "markdown",
   "metadata": {},
   "source": [
    "### Verify the library cache exists"
   ]
  },
  {
   "cell_type": "code",
   "execution_count": null,
   "metadata": {
    "scrolled": true
   },
   "outputs": [],
   "source": [
    "from pandas.io.json import json_normalize\n",
    "import pandas as pd\n",
    "import math\n",
    "import numpy as np\n",
    "\n",
    "# Read Cached File\n",
    "\n",
    "tracksDf = read_pickle(\"mytracks.pkl\").reset_index()\n",
    "\n",
    "# Add Original URI and ID for linking\n",
    "tracksDf[\"original_id\"] = tracksDf.apply(lambda t: t[\"track_id\"] if (pd.isnull(t[\"track_linked_from_id\"])) else t[\"track_linked_from_id\"], axis=1 )\n",
    "tracksDf[\"original_uri\"] = tracksDf.apply(lambda t: t[\"track_uri\"] if (pd.isnull(t[\"track_linked_from_uri\"])) else t[\"track_linked_from_uri\"], axis=1 )\n",
    "tracksDf = tracksDf.set_index(\"original_uri\")\n",
    "\n",
    "# Read Albums, with cache\n",
    "albumsPickle = read_pickle(\"albums.pkl\") if (os.path.isfile(\"albums.pkl\")) else None \n",
    "album_ids  = list(set(tracksDf[\"track_album_id\"].values))\n",
    "albums = spot.fetchAllIds(\"/v1/albums\",\"albums\",album_ids,pageSize=20,existingDf=albumsPickle)\n",
    "albumsDf = json_normalize(albums, sep=\"_\").set_index(\"id\")\n",
    "albumsDf.to_pickle(\"albums.pkl\")\n",
    "\n",
    "# Add a Released DateTime Column, calculated from the release_date\n",
    "albumsDf[\"released\"] = albumsDf.apply(lambda al: datetime.strptime(al[\"release_date\"], \"%Y\" if (al.release_date_precision==\"year\") else \"%Y-%m\" if (al.release_date_precision==\"month\") else \"%Y-%m-%d\"), axis=1) \n",
    "\n",
    "# Join the Albums Columns using track_album_id index to album\n",
    "libraryWithAlbums = merge(tracksDf,albumsDf, left_on=\"track_album_id\", right_index=True, suffixes=(\"_track\",\"_album\"))\n",
    "\n",
    "# Add an Artist Name column, first in the album list\n",
    "libraryWithAlbums[\"artist\"] = libraryWithAlbums.apply(lambda a: a[\"artists\"][0][\"name\"], axis=1 )\n",
    "\n",
    "# Read the Features\n",
    "featuresPickle = read_pickle(\"features.pkl\").set_index(\"id\") if (os.path.isfile(\"features.pkl\")) else None \n",
    "features = spot.fetchAllIds(\"/v1/audio-features\",\"audio_features\",tracksDf[\"original_id\"].values,pageSize=50,existingDf=featuresPickle)\n",
    "featuresDf = json_normalize(features, sep=\"_\")\n",
    "featuresDf.to_pickle(\"features.pkl\")\n",
    "\n",
    "# REMOVED - ARTIST FETCHING - Add BACK LATER\n",
    "#artist_and_track = json_normalize( data=data, record_path=['track','artists'],  meta=[[\"track\",\"name\"],[\"track\",\"uri\"]],  record_prefix='artist_',   sep=\"_\" )\n",
    "#artist_and_track = artist_and_track[['track_name','artist_id','artist_name', 'track_uri']]\n",
    "#artistsPickle = read_pickle(\"artists.pkl\") if (os.path.isfile(\"artists.pkl\")) else None \n",
    "#artistIds = list(set(artist_and_track[\"artist_id\"].values))\n",
    "#artists = spot.fetchAllIds(\"/v1/artists\",\"artists\",artistIds,existingDf=artistsPickle)\n",
    "#artistsDf = json_normalize(artists).set_index(\"id\")\n",
    "#artistsDf.to_pickle(\"artists.pkl\")\n",
    "#artistsDf[[\"name\",\"genres\"]].head(2)\n",
    "\n",
    "# Merge Features\n",
    "lib = merge(libraryWithAlbums,featuresDf.set_index(\"uri\"), left_index=True, right_index=True, how=\"outer\")\n",
    "lib.columns.values\n",
    "#lib[lib.track_name==\"Spooky - Out of Order Mix\"][[\"artist\",\"track_name\",\"tempo\",\"danceability\",\"loudness\",\"energy\",\"released\",\"valence\"]].head(2)"
   ]
  },
  {
   "cell_type": "markdown",
   "metadata": {},
   "source": [
    "---------------------------------\n",
    "\n",
    "## All Read - let's create an auto playlist\n",
    "\n",
    "\n",
    "\n",
    "### Running Playlist \n",
    "* Tempo between 160 and 200 (for cadence)\n",
    "* Energy above 0.6\n",
    "* Danceability above 0.7"
   ]
  },
  {
   "cell_type": "code",
   "execution_count": null,
   "metadata": {},
   "outputs": [],
   "source": [
    "newPlaylist = lib[(lib.energy>0.90) & (lib.tempo>100) & (lib.instrumentalness>0.5) & (lib.duration_ms<1000*60*6) & (lib.danceability>0.4) & (lib.loudness>-11)]\n",
    "newPlaylist = newPlaylist[~newPlaylist.artist.isin([\"Rodrigo y Gabriela\",\"2CELLOS\",\"Faithless\",\"Doves\"])]\n",
    "spot.updatePlaylist(\"Auto Run Fast\",newPlaylist)\n"
   ]
  },
  {
   "cell_type": "code",
   "execution_count": null,
   "metadata": {},
   "outputs": [],
   "source": [
    "spot.updatePlaylist(\"Are You Sure\",lib[lib.track_popularity<0.10])\n"
   ]
  },
  {
   "cell_type": "code",
   "execution_count": null,
   "metadata": {},
   "outputs": [],
   "source": [
    "spot.updatePlaylist(\"auto 1960s\",lib[lib.released<datetime(1970,1,1)])\n",
    "spot.updatePlaylist(\"auto 1970s\",lib[(lib.released>datetime(1970,1,1)) & (lib.released<datetime(1980,1,1))])\n",
    "spot.updatePlaylist(\"auto 1980s\",lib[(lib.released>datetime(1980,1,1)) & (lib.released<datetime(1990,1,1))])\n",
    "spot.updatePlaylist(\"auto 1990s\",lib[(lib.released>datetime(1990,1,1)) & (lib.released<datetime(2000,1,1))])\n",
    "spot.updatePlaylist(\"auto 2000s\",lib[(lib.released>datetime(2000,1,1)) & (lib.released<datetime(2010,1,1))])\n",
    "spot.updatePlaylist(\"auto 2010s\",lib[(lib.released>datetime(2010,1,1)) & (lib.released<datetime(2020,1,1))])\n",
    "spot.updatePlaylist(\"2019 So Far\",lib[lib.released>datetime(2019,1,1)] )\n"
   ]
  },
  {
   "cell_type": "code",
   "execution_count": null,
   "metadata": {},
   "outputs": [],
   "source": [
    "spot.updatePlaylist(\"Auto Recent\",lib[lib.added_at>(datetime.now()-timedelta(days=60)).isoformat()])\n"
   ]
  },
  {
   "cell_type": "code",
   "execution_count": null,
   "metadata": {},
   "outputs": [],
   "source": [
    "spot.updatePlaylist(\"Dinner Party\",lib[(lib.acousticness>0.9) & (lib.energy<0.6)  ])\n",
    "spot.updatePlaylist(\"Night Nights\",lib[(lib.acousticness>0.9) & (lib.energy<0.3) & (lib.danceability<0.3)])\n",
    "spot.updatePlaylist(\"To Work To\",lib[(lib.instrumentalness>0.9) & (lib.energy>0.6) ])\n",
    "spot.updatePlaylist(\"Quiet Work\",lib[(lib.instrumentalness>0.9) & (lib.danceability<0.6) & (lib.energy>0.3) ])"
   ]
  },
  {
   "cell_type": "code",
   "execution_count": null,
   "metadata": {},
   "outputs": [],
   "source": [
    "lib[lib.track_is_playable==False][[\"track_name\",\"artist\",\"released\",\"track_is_local\"]].head(67)"
   ]
  },
  {
   "cell_type": "code",
   "execution_count": null,
   "metadata": {},
   "outputs": [],
   "source": [
    "# Duplicates in the library\n",
    "ff = lib.groupby([\"track_name\",\"artist\"]).count()\n",
    "(ff[ff.track_uri>1]).index.values"
   ]
  },
  {
   "cell_type": "code",
   "execution_count": null,
   "metadata": {},
   "outputs": [],
   "source": []
  },
  {
   "cell_type": "code",
   "execution_count": null,
   "metadata": {},
   "outputs": [],
   "source": []
  }
 ],
 "metadata": {
  "kernelspec": {
   "display_name": "Python 3",
   "language": "python",
   "name": "python3"
  },
  "language_info": {
   "codemirror_mode": {
    "name": "ipython",
    "version": 3
   },
   "file_extension": ".py",
   "mimetype": "text/x-python",
   "name": "python",
   "nbconvert_exporter": "python",
   "pygments_lexer": "ipython3",
   "version": "3.7.5"
  }
 },
 "nbformat": 4,
 "nbformat_minor": 2
}
